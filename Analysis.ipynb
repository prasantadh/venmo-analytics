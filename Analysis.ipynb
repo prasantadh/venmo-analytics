{
 "cells": [
  {
   "cell_type": "code",
   "execution_count": 1,
   "metadata": {},
   "outputs": [
    {
     "name": "stdout",
     "output_type": "stream",
     "text": [
      "{\n",
      "\t_id, date_updated, transfer, id, note, audience, \n",
      "\tdate_created, type, authorization \n",
      "\tapp {\n",
      "\t\tid, image_url, description, name, site_url }\n",
      "\tcomments {\n",
      "\t\tcount, data }\n",
      "\tlikes {\n",
      "\t\tcount, data }\n",
      "\tmentions {\n",
      "\t\tcount, data }\n",
      "\tpayment {\n",
      "\t\tstatus, merchant_split_purchase, date_completed, amount, note, audience, \n",
      "\t\taction, date_created, date_reminded, id, date_authorized \n",
      "\t\ttarget {\n",
      "\t\t\tmerchant, redeemable_target, phone, type, email \n",
      "\t\t\tuser {\n",
      "\t\t\t\tusername, about, last_name, display_name, friends_count, is_group, \n",
      "\t\t\t\tis_active, trust_request, email, phone, profile_picture_url, first_name, \n",
      "\t\t\t\tfriend_status, is_blocked, id, identity, date_joined }}\n",
      "\t\tactor {\n",
      "\t\t\tusername, about, last_name, display_name, friends_count, is_group, \n",
      "\t\t\tis_active, trust_request, email, phone, profile_picture_url, first_name, \n",
      "\t\t\tfriend_status, is_blocked, id, identity, date_joined }}}"
     ]
    }
   ],
   "source": [
    "# the imports\n",
    "from pymongo import MongoClient\n",
    "from pprint import pprint\n",
    "import pandas as pd\n",
    "from venmo_helper import print_schema \n",
    "\n",
    "# the configuration\n",
    "## print full text in panda\n",
    "pd.set_option('display.max_colwidth', -1) \n",
    "\n",
    "# the database connection\n",
    "client = MongoClient('localhost:27017')\n",
    "db = client.venmo\n",
    "venmo = db.venmo\n",
    "\n",
    "transactions = venmo.aggregate([{ '$sample' : {'size' : 1}}])\n",
    "for transaction in transactions:\n",
    "    print_schema(transaction)"
   ]
  },
  {
   "cell_type": "code",
   "execution_count": 5,
   "metadata": {},
   "outputs": [
    {
     "data": {
      "text/html": [
       "<style  type=\"text/css\" >\n",
       "</style><table id=\"T_2985fbb8_12c6_11ea_a164_2f3f703723c6\" ><thead>    <tr>        <th class=\"col_heading level0 col0\" >Description</th>        <th class=\"col_heading level0 col1\" >URL</th>        <th class=\"col_heading level0 col2\" >Count</th>    </tr></thead><tbody>\n",
       "                <tr>\n",
       "                                <td id=\"T_2985fbb8_12c6_11ea_a164_2f3f703723c6row0_col0\" class=\"data row0 col0\" >Venmo for iPhone</td>\n",
       "                        <td id=\"T_2985fbb8_12c6_11ea_a164_2f3f703723c6row0_col1\" class=\"data row0 col1\" >None</td>\n",
       "                        <td id=\"T_2985fbb8_12c6_11ea_a164_2f3f703723c6row0_col2\" class=\"data row0 col2\" >6156264</td>\n",
       "            </tr>\n",
       "            <tr>\n",
       "                                <td id=\"T_2985fbb8_12c6_11ea_a164_2f3f703723c6row1_col0\" class=\"data row1 col0\" >Venmo for Android</td>\n",
       "                        <td id=\"T_2985fbb8_12c6_11ea_a164_2f3f703723c6row1_col1\" class=\"data row1 col1\" >None</td>\n",
       "                        <td id=\"T_2985fbb8_12c6_11ea_a164_2f3f703723c6row1_col2\" class=\"data row1 col2\" >884654</td>\n",
       "            </tr>\n",
       "            <tr>\n",
       "                                <td id=\"T_2985fbb8_12c6_11ea_a164_2f3f703723c6row2_col0\" class=\"data row2 col0\" >Share bills and IOUs. Make sure everyone gets paid back. Totally free for web, iPhone, and Android.</td>\n",
       "                        <td id=\"T_2985fbb8_12c6_11ea_a164_2f3f703723c6row2_col1\" class=\"data row2 col1\" >https://secure.splitwise.com/</td>\n",
       "                        <td id=\"T_2985fbb8_12c6_11ea_a164_2f3f703723c6row2_col2\" class=\"data row2 col2\" >25621</td>\n",
       "            </tr>\n",
       "            <tr>\n",
       "                                <td id=\"T_2985fbb8_12c6_11ea_a164_2f3f703723c6row3_col0\" class=\"data row3 col0\" >Venmo.com</td>\n",
       "                        <td id=\"T_2985fbb8_12c6_11ea_a164_2f3f703723c6row3_col1\" class=\"data row3 col1\" >None</td>\n",
       "                        <td id=\"T_2985fbb8_12c6_11ea_a164_2f3f703723c6row3_col2\" class=\"data row3 col2\" >9271</td>\n",
       "            </tr>\n",
       "            <tr>\n",
       "                                <td id=\"T_2985fbb8_12c6_11ea_a164_2f3f703723c6row4_col0\" class=\"data row4 col0\" >Payouts API</td>\n",
       "                        <td id=\"T_2985fbb8_12c6_11ea_a164_2f3f703723c6row4_col1\" class=\"data row4 col1\" >None</td>\n",
       "                        <td id=\"T_2985fbb8_12c6_11ea_a164_2f3f703723c6row4_col2\" class=\"data row4 col2\" >484</td>\n",
       "            </tr>\n",
       "            <tr>\n",
       "                                <td id=\"T_2985fbb8_12c6_11ea_a164_2f3f703723c6row5_col0\" class=\"data row5 col0\" >Makes splitting restaurant/bar bills easy; facilitates payments between people in the group.</td>\n",
       "                        <td id=\"T_2985fbb8_12c6_11ea_a164_2f3f703723c6row5_col1\" class=\"data row5 col1\" >http://www.tabapp.co/</td>\n",
       "                        <td id=\"T_2985fbb8_12c6_11ea_a164_2f3f703723c6row5_col2\" class=\"data row5 col2\" >201</td>\n",
       "            </tr>\n",
       "            <tr>\n",
       "                                <td id=\"T_2985fbb8_12c6_11ea_a164_2f3f703723c6row6_col0\" class=\"data row6 col0\" >Venmo Developer</td>\n",
       "                        <td id=\"T_2985fbb8_12c6_11ea_a164_2f3f703723c6row6_col1\" class=\"data row6 col1\" >None</td>\n",
       "                        <td id=\"T_2985fbb8_12c6_11ea_a164_2f3f703723c6row6_col2\" class=\"data row6 col2\" >61</td>\n",
       "            </tr>\n",
       "            <tr>\n",
       "                                <td id=\"T_2985fbb8_12c6_11ea_a164_2f3f703723c6row7_col0\" class=\"data row7 col0\" >Used for Bottle Rocket Utility</td>\n",
       "                        <td id=\"T_2985fbb8_12c6_11ea_a164_2f3f703723c6row7_col1\" class=\"data row7 col1\" >None</td>\n",
       "                        <td id=\"T_2985fbb8_12c6_11ea_a164_2f3f703723c6row7_col2\" class=\"data row7 col2\" >6</td>\n",
       "            </tr>\n",
       "            <tr>\n",
       "                                <td id=\"T_2985fbb8_12c6_11ea_a164_2f3f703723c6row8_col0\" class=\"data row8 col0\" >Automation</td>\n",
       "                        <td id=\"T_2985fbb8_12c6_11ea_a164_2f3f703723c6row8_col1\" class=\"data row8 col1\" >None</td>\n",
       "                        <td id=\"T_2985fbb8_12c6_11ea_a164_2f3f703723c6row8_col2\" class=\"data row8 col2\" >6</td>\n",
       "            </tr>\n",
       "            <tr>\n",
       "                                <td id=\"T_2985fbb8_12c6_11ea_a164_2f3f703723c6row9_col0\" class=\"data row9 col0\" >Transfer money to phone contacts in a swipe</td>\n",
       "                        <td id=\"T_2985fbb8_12c6_11ea_a164_2f3f703723c6row9_col1\" class=\"data row9 col1\" >None</td>\n",
       "                        <td id=\"T_2985fbb8_12c6_11ea_a164_2f3f703723c6row9_col2\" class=\"data row9 col2\" >6</td>\n",
       "            </tr>\n",
       "            <tr>\n",
       "                                <td id=\"T_2985fbb8_12c6_11ea_a164_2f3f703723c6row10_col0\" class=\"data row10 col0\" >Venmo payments for the WP platform.</td>\n",
       "                        <td id=\"T_2985fbb8_12c6_11ea_a164_2f3f703723c6row10_col1\" class=\"data row10 col1\" >None</td>\n",
       "                        <td id=\"T_2985fbb8_12c6_11ea_a164_2f3f703723c6row10_col2\" class=\"data row10 col2\" >3</td>\n",
       "            </tr>\n",
       "            <tr>\n",
       "                                <td id=\"T_2985fbb8_12c6_11ea_a164_2f3f703723c6row11_col0\" class=\"data row11 col0\" >Conversational Banking</td>\n",
       "                        <td id=\"T_2985fbb8_12c6_11ea_a164_2f3f703723c6row11_col1\" class=\"data row11 col1\" >https://kai.kasis.to/kai/</td>\n",
       "                        <td id=\"T_2985fbb8_12c6_11ea_a164_2f3f703723c6row11_col2\" class=\"data row11 col2\" >3</td>\n",
       "            </tr>\n",
       "            <tr>\n",
       "                                <td id=\"T_2985fbb8_12c6_11ea_a164_2f3f703723c6row12_col0\" class=\"data row12 col0\" >Alexa for PayPal</td>\n",
       "                        <td id=\"T_2985fbb8_12c6_11ea_a164_2f3f703723c6row12_col1\" class=\"data row12 col1\" >None</td>\n",
       "                        <td id=\"T_2985fbb8_12c6_11ea_a164_2f3f703723c6row12_col2\" class=\"data row12 col2\" >2</td>\n",
       "            </tr>\n",
       "            <tr>\n",
       "                                <td id=\"T_2985fbb8_12c6_11ea_a164_2f3f703723c6row13_col0\" class=\"data row13 col0\" >Developers can generate a sample access token on the settings page.</td>\n",
       "                        <td id=\"T_2985fbb8_12c6_11ea_a164_2f3f703723c6row13_col1\" class=\"data row13 col1\" >None</td>\n",
       "                        <td id=\"T_2985fbb8_12c6_11ea_a164_2f3f703723c6row13_col2\" class=\"data row13 col2\" >2</td>\n",
       "            </tr>\n",
       "            <tr>\n",
       "                                <td id=\"T_2985fbb8_12c6_11ea_a164_2f3f703723c6row14_col0\" class=\"data row14 col0\" >Making Venmo payments.</td>\n",
       "                        <td id=\"T_2985fbb8_12c6_11ea_a164_2f3f703723c6row14_col1\" class=\"data row14 col1\" >https://guasfcu.com</td>\n",
       "                        <td id=\"T_2985fbb8_12c6_11ea_a164_2f3f703723c6row14_col2\" class=\"data row14 col2\" >1</td>\n",
       "            </tr>\n",
       "    </tbody></table>"
      ],
      "text/plain": [
       "<pandas.io.formats.style.Styler at 0x7ff85a5c7e80>"
      ]
     },
     "execution_count": 5,
     "metadata": {},
     "output_type": "execute_result"
    }
   ],
   "source": [
    "## aggregate by different types of apps used\n",
    "transactions =  venmo.aggregate( [{ '$group' : { '_id' : {'description': '$app.description', 'url' : '$app.site_url'} , 'count' : { '$sum' : 1}}}])\n",
    "df = pd.DataFrame((item['_id']['description'], item['_id']['url'], item['count']) for item in transactions)\n",
    "df.columns=['Description', 'URL', 'Count']\n",
    "df.sort_values(by=['Count'], ascending=False).style.hide_index()"
   ]
  },
  {
   "cell_type": "code",
   "execution_count": 6,
   "metadata": {},
   "outputs": [
    {
     "data": {
      "text/html": [
       "<style  type=\"text/css\" >\n",
       "</style><table id=\"T_32e6d0b0_12c6_11ea_a164_2f3f703723c6\" ><thead>    <tr>        <th class=\"col_heading level0 col0\" >Email</th>        <th class=\"col_heading level0 col1\" >Count</th>    </tr></thead><tbody>\n",
       "                <tr>\n",
       "                                <td id=\"T_32e6d0b0_12c6_11ea_a164_2f3f703723c6row0_col0\" class=\"data row0 col0\" >None</td>\n",
       "                        <td id=\"T_32e6d0b0_12c6_11ea_a164_2f3f703723c6row0_col1\" class=\"data row0 col1\" >7076585</td>\n",
       "            </tr>\n",
       "    </tbody></table>"
      ],
      "text/plain": [
       "<pandas.io.formats.style.Styler at 0x7ff858d7d978>"
      ]
     },
     "execution_count": 6,
     "metadata": {},
     "output_type": "execute_result"
    }
   ],
   "source": [
    "## aggregate by email\n",
    "transactions =  venmo.aggregate( [{ '$group' : { '_id' : {'email': '$payment.actor.email'} , 'count' : { '$sum' : 1}}}])\n",
    "df = pd.DataFrame((item['_id']['email'], item['count']) for item in transactions)\n",
    "df.columns=['Email', 'Count']\n",
    "df.sort_values(by=['Count'], ascending=False).style.hide_index()"
   ]
  },
  {
   "cell_type": "code",
   "execution_count": 7,
   "metadata": {},
   "outputs": [
    {
     "data": {
      "text/html": [
       "<style  type=\"text/css\" >\n",
       "</style><table id=\"T_3ad0ba84_12c6_11ea_a164_2f3f703723c6\" ><thead>    <tr>        <th class=\"col_heading level0 col0\" >Amount</th>        <th class=\"col_heading level0 col1\" >Count</th>    </tr></thead><tbody>\n",
       "                <tr>\n",
       "                                <td id=\"T_3ad0ba84_12c6_11ea_a164_2f3f703723c6row0_col0\" class=\"data row0 col0\" >None</td>\n",
       "                        <td id=\"T_3ad0ba84_12c6_11ea_a164_2f3f703723c6row0_col1\" class=\"data row0 col1\" >7076585</td>\n",
       "            </tr>\n",
       "    </tbody></table>"
      ],
      "text/plain": [
       "<pandas.io.formats.style.Styler at 0x7ff858d3ea90>"
      ]
     },
     "execution_count": 7,
     "metadata": {},
     "output_type": "execute_result"
    }
   ],
   "source": [
    "## aggregate by payment amount\n",
    "transactions =  venmo.aggregate( [{ '$group' : { '_id' : {'amount': '$payment.amount'} , 'count' : { '$sum' : 1}}}])\n",
    "df = pd.DataFrame((item['_id']['amount'], item['count']) for item in transactions)\n",
    "df.columns=['Amount', 'Count']\n",
    "df.sort_values(by=['Amount'], ascending=False).style.hide_index()"
   ]
  },
  {
   "cell_type": "code",
   "execution_count": 2,
   "metadata": {},
   "outputs": [],
   "source": [
    "df = pd.read_csv('users.csv',\n",
    "                dtype={'is_blocked':object, 'is_group' : object, 'is_active': object},\n",
    "                 usecols=['username', 'date_joined']                \n",
    "                )"
   ]
  },
  {
   "cell_type": "code",
   "execution_count": 3,
   "metadata": {},
   "outputs": [
    {
     "data": {
      "text/plain": [
       "7239701"
      ]
     },
     "execution_count": 3,
     "metadata": {},
     "output_type": "execute_result"
    }
   ],
   "source": [
    "df.username.unique().size"
   ]
  }
 ],
 "metadata": {
  "kernelspec": {
   "display_name": "Python 3",
   "language": "python",
   "name": "python3"
  },
  "language_info": {
   "codemirror_mode": {
    "name": "ipython",
    "version": 3
   },
   "file_extension": ".py",
   "mimetype": "text/x-python",
   "name": "python",
   "nbconvert_exporter": "python",
   "pygments_lexer": "ipython3",
   "version": "3.7.3"
  }
 },
 "nbformat": 4,
 "nbformat_minor": 4
}
