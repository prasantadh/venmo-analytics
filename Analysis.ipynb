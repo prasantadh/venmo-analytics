{
 "cells": [
  {
   "cell_type": "code",
   "execution_count": 5,
   "metadata": {},
   "outputs": [],
   "source": [
    "# the imports\n",
    "# the imports\n",
    "from pymongo import MongoClient\n",
    "from pprint import pprint\n",
    "import pandas as pd\n",
    "pd.set_option('display.max_colwidth', -1)"
   ]
  },
  {
   "cell_type": "code",
   "execution_count": 6,
   "metadata": {},
   "outputs": [],
   "source": [
    "client = MongoClient('localhost:27017')\n",
    "db = client.venmo\n",
    "venmo = db.venmo"
   ]
  },
  {
   "cell_type": "code",
   "execution_count": 7,
   "metadata": {},
   "outputs": [
    {
     "data": {
      "text/plain": [
       "7076585"
      ]
     },
     "execution_count": 7,
     "metadata": {},
     "output_type": "execute_result"
    }
   ],
   "source": [
    "venmo.count_documents({}) "
   ]
  },
  {
   "cell_type": "code",
   "execution_count": 8,
   "metadata": {},
   "outputs": [
    {
     "name": "stdout",
     "output_type": "stream",
     "text": [
      "{\n",
      "\t_id: \n",
      "\tdate_updated: \n",
      "\ttransfer: \n",
      "\tapp: \n",
      "\t\t{ id, image_url, description, name, site_url}\n",
      "\tcomments: \n",
      "\t\t{ count, data}\n",
      "\tid: \n",
      "\tnote: \n",
      "\taudience: \n",
      "\tlikes: \n",
      "\t\t{ count, data}\n",
      "\tdate_created: \n",
      "\tmentions: \n",
      "\t\t{ count, data}\n",
      "\ttype: \n",
      "\tpayment: \n",
      "\t{\n",
      "\t\tstatus: \n",
      "\t\tmerchant_split_purchase: \n",
      "\t\tdate_completed: \n",
      "\t\ttarget: \n",
      "\t\t{\n",
      "\t\t\tmerchant: \n",
      "\t\t\tredeemable_target: \n",
      "\t\t\tphone: \n",
      "\t\t\tuser: \n",
      "\t\t\t\t{ username, about, last_name, display_name, friends_count, is_group, is_active, trust_request, email, phone, profile_picture_url, first_name, friend_status, is_blocked, id, identity, date_joined}\n",
      "\t\t\ttype: \n",
      "\t\t\temail: \n",
      "\t\t}\n",
      "\t\tamount: \n",
      "\t\tactor: \n",
      "\t\t\t{ username, about, last_name, display_name, friends_count, is_group, is_active, trust_request, email, phone, profile_picture_url, first_name, friend_status, is_blocked, id, identity, date_joined}\n",
      "\t\tnote: \n",
      "\t\taudience: \n",
      "\t\taction: \n",
      "\t\tdate_created: \n",
      "\t\tdate_reminded: \n",
      "\t\tid: \n",
      "\t\tdate_authorized: \n",
      "\t}\n",
      "\tauthorization: \n",
      "}\n"
     ]
    }
   ],
   "source": [
    "# one random sample from the dataset\n",
    "def print_schema(obj, level=0):\n",
    "    if type(obj) == type({}):\n",
    "        for key, value in obj.items():\n",
    "            if type(value) == type({}):\n",
    "                break\n",
    "        else:\n",
    "            print('\\t' * (level + 1)  + '{', end=' ')\n",
    "            keys = list(obj.keys())\n",
    "            for key in keys[:-1]:\n",
    "                print(key, end=', ')\n",
    "            print(keys[-1] + '}')\n",
    "            return\n",
    "        \n",
    "        print('\\t' * level + '{', end='\\n')\n",
    "        for key, value in obj.items():\n",
    "            print('\\t' * (level + 1) + key + ': ')\n",
    "            if type(value) == type({}):\n",
    "                print_schema(value, level+1)\n",
    "        print('\\t' * level + '}')\n",
    "\n",
    "transactions = venmo.aggregate([{ '$sample' : {'size' : 1}}])\n",
    "for transaction in transactions:\n",
    "    print_schema(transaction)"
   ]
  },
  {
   "cell_type": "code",
   "execution_count": 9,
   "metadata": {},
   "outputs": [
    {
     "data": {
      "text/html": [
       "<style  type=\"text/css\" >\n",
       "</style><table id=\"T_070c3484_1240_11ea_877a_67ffda657d62\" ><thead>    <tr>        <th class=\"col_heading level0 col0\" >Description</th>        <th class=\"col_heading level0 col1\" >URL</th>        <th class=\"col_heading level0 col2\" >Count</th>    </tr></thead><tbody>\n",
       "                <tr>\n",
       "                                <td id=\"T_070c3484_1240_11ea_877a_67ffda657d62row0_col0\" class=\"data row0 col0\" >Venmo for iPhone</td>\n",
       "                        <td id=\"T_070c3484_1240_11ea_877a_67ffda657d62row0_col1\" class=\"data row0 col1\" >None</td>\n",
       "                        <td id=\"T_070c3484_1240_11ea_877a_67ffda657d62row0_col2\" class=\"data row0 col2\" >6156264</td>\n",
       "            </tr>\n",
       "            <tr>\n",
       "                                <td id=\"T_070c3484_1240_11ea_877a_67ffda657d62row1_col0\" class=\"data row1 col0\" >Venmo for Android</td>\n",
       "                        <td id=\"T_070c3484_1240_11ea_877a_67ffda657d62row1_col1\" class=\"data row1 col1\" >None</td>\n",
       "                        <td id=\"T_070c3484_1240_11ea_877a_67ffda657d62row1_col2\" class=\"data row1 col2\" >884654</td>\n",
       "            </tr>\n",
       "            <tr>\n",
       "                                <td id=\"T_070c3484_1240_11ea_877a_67ffda657d62row2_col0\" class=\"data row2 col0\" >Share bills and IOUs. Make sure everyone gets paid back. Totally free for web, iPhone, and Android.</td>\n",
       "                        <td id=\"T_070c3484_1240_11ea_877a_67ffda657d62row2_col1\" class=\"data row2 col1\" >https://secure.splitwise.com/</td>\n",
       "                        <td id=\"T_070c3484_1240_11ea_877a_67ffda657d62row2_col2\" class=\"data row2 col2\" >25621</td>\n",
       "            </tr>\n",
       "            <tr>\n",
       "                                <td id=\"T_070c3484_1240_11ea_877a_67ffda657d62row3_col0\" class=\"data row3 col0\" >Venmo.com</td>\n",
       "                        <td id=\"T_070c3484_1240_11ea_877a_67ffda657d62row3_col1\" class=\"data row3 col1\" >None</td>\n",
       "                        <td id=\"T_070c3484_1240_11ea_877a_67ffda657d62row3_col2\" class=\"data row3 col2\" >9271</td>\n",
       "            </tr>\n",
       "            <tr>\n",
       "                                <td id=\"T_070c3484_1240_11ea_877a_67ffda657d62row4_col0\" class=\"data row4 col0\" >Payouts API</td>\n",
       "                        <td id=\"T_070c3484_1240_11ea_877a_67ffda657d62row4_col1\" class=\"data row4 col1\" >None</td>\n",
       "                        <td id=\"T_070c3484_1240_11ea_877a_67ffda657d62row4_col2\" class=\"data row4 col2\" >484</td>\n",
       "            </tr>\n",
       "            <tr>\n",
       "                                <td id=\"T_070c3484_1240_11ea_877a_67ffda657d62row5_col0\" class=\"data row5 col0\" >Makes splitting restaurant/bar bills easy; facilitates payments between people in the group.</td>\n",
       "                        <td id=\"T_070c3484_1240_11ea_877a_67ffda657d62row5_col1\" class=\"data row5 col1\" >http://www.tabapp.co/</td>\n",
       "                        <td id=\"T_070c3484_1240_11ea_877a_67ffda657d62row5_col2\" class=\"data row5 col2\" >201</td>\n",
       "            </tr>\n",
       "            <tr>\n",
       "                                <td id=\"T_070c3484_1240_11ea_877a_67ffda657d62row6_col0\" class=\"data row6 col0\" >Venmo Developer</td>\n",
       "                        <td id=\"T_070c3484_1240_11ea_877a_67ffda657d62row6_col1\" class=\"data row6 col1\" >None</td>\n",
       "                        <td id=\"T_070c3484_1240_11ea_877a_67ffda657d62row6_col2\" class=\"data row6 col2\" >61</td>\n",
       "            </tr>\n",
       "            <tr>\n",
       "                                <td id=\"T_070c3484_1240_11ea_877a_67ffda657d62row7_col0\" class=\"data row7 col0\" >Used for Bottle Rocket Utility</td>\n",
       "                        <td id=\"T_070c3484_1240_11ea_877a_67ffda657d62row7_col1\" class=\"data row7 col1\" >None</td>\n",
       "                        <td id=\"T_070c3484_1240_11ea_877a_67ffda657d62row7_col2\" class=\"data row7 col2\" >6</td>\n",
       "            </tr>\n",
       "            <tr>\n",
       "                                <td id=\"T_070c3484_1240_11ea_877a_67ffda657d62row8_col0\" class=\"data row8 col0\" >Automation</td>\n",
       "                        <td id=\"T_070c3484_1240_11ea_877a_67ffda657d62row8_col1\" class=\"data row8 col1\" >None</td>\n",
       "                        <td id=\"T_070c3484_1240_11ea_877a_67ffda657d62row8_col2\" class=\"data row8 col2\" >6</td>\n",
       "            </tr>\n",
       "            <tr>\n",
       "                                <td id=\"T_070c3484_1240_11ea_877a_67ffda657d62row9_col0\" class=\"data row9 col0\" >Transfer money to phone contacts in a swipe</td>\n",
       "                        <td id=\"T_070c3484_1240_11ea_877a_67ffda657d62row9_col1\" class=\"data row9 col1\" >None</td>\n",
       "                        <td id=\"T_070c3484_1240_11ea_877a_67ffda657d62row9_col2\" class=\"data row9 col2\" >6</td>\n",
       "            </tr>\n",
       "            <tr>\n",
       "                                <td id=\"T_070c3484_1240_11ea_877a_67ffda657d62row10_col0\" class=\"data row10 col0\" >Venmo payments for the WP platform.</td>\n",
       "                        <td id=\"T_070c3484_1240_11ea_877a_67ffda657d62row10_col1\" class=\"data row10 col1\" >None</td>\n",
       "                        <td id=\"T_070c3484_1240_11ea_877a_67ffda657d62row10_col2\" class=\"data row10 col2\" >3</td>\n",
       "            </tr>\n",
       "            <tr>\n",
       "                                <td id=\"T_070c3484_1240_11ea_877a_67ffda657d62row11_col0\" class=\"data row11 col0\" >Conversational Banking</td>\n",
       "                        <td id=\"T_070c3484_1240_11ea_877a_67ffda657d62row11_col1\" class=\"data row11 col1\" >https://kai.kasis.to/kai/</td>\n",
       "                        <td id=\"T_070c3484_1240_11ea_877a_67ffda657d62row11_col2\" class=\"data row11 col2\" >3</td>\n",
       "            </tr>\n",
       "            <tr>\n",
       "                                <td id=\"T_070c3484_1240_11ea_877a_67ffda657d62row12_col0\" class=\"data row12 col0\" >Alexa for PayPal</td>\n",
       "                        <td id=\"T_070c3484_1240_11ea_877a_67ffda657d62row12_col1\" class=\"data row12 col1\" >None</td>\n",
       "                        <td id=\"T_070c3484_1240_11ea_877a_67ffda657d62row12_col2\" class=\"data row12 col2\" >2</td>\n",
       "            </tr>\n",
       "            <tr>\n",
       "                                <td id=\"T_070c3484_1240_11ea_877a_67ffda657d62row13_col0\" class=\"data row13 col0\" >Developers can generate a sample access token on the settings page.</td>\n",
       "                        <td id=\"T_070c3484_1240_11ea_877a_67ffda657d62row13_col1\" class=\"data row13 col1\" >None</td>\n",
       "                        <td id=\"T_070c3484_1240_11ea_877a_67ffda657d62row13_col2\" class=\"data row13 col2\" >2</td>\n",
       "            </tr>\n",
       "            <tr>\n",
       "                                <td id=\"T_070c3484_1240_11ea_877a_67ffda657d62row14_col0\" class=\"data row14 col0\" >Making Venmo payments.</td>\n",
       "                        <td id=\"T_070c3484_1240_11ea_877a_67ffda657d62row14_col1\" class=\"data row14 col1\" >https://guasfcu.com</td>\n",
       "                        <td id=\"T_070c3484_1240_11ea_877a_67ffda657d62row14_col2\" class=\"data row14 col2\" >1</td>\n",
       "            </tr>\n",
       "    </tbody></table>"
      ],
      "text/plain": [
       "<pandas.io.formats.style.Styler at 0x7f1a5f081c50>"
      ]
     },
     "execution_count": 9,
     "metadata": {},
     "output_type": "execute_result"
    }
   ],
   "source": [
    "## aggregate by different types of apps used\n",
    "transactions =  venmo.aggregate( [{ '$group' : { '_id' : {'description': '$app.description', 'url' : '$app.site_url'} , 'count' : { '$sum' : 1}}}])\n",
    "df = pd.DataFrame((item['_id']['description'], item['_id']['url'], item['count']) for item in transactions)\n",
    "df.columns=['Description', 'URL', 'Count']\n",
    "df.sort_values(by=['Count'], ascending=False).style.hide_index()"
   ]
  },
  {
   "cell_type": "code",
   "execution_count": 10,
   "metadata": {},
   "outputs": [
    {
     "data": {
      "text/html": [
       "<style  type=\"text/css\" >\n",
       "</style><table id=\"T_1128155a_1240_11ea_877a_67ffda657d62\" ><thead>    <tr>        <th class=\"col_heading level0 col0\" >Email</th>        <th class=\"col_heading level0 col1\" >Count</th>    </tr></thead><tbody>\n",
       "                <tr>\n",
       "                                <td id=\"T_1128155a_1240_11ea_877a_67ffda657d62row0_col0\" class=\"data row0 col0\" >None</td>\n",
       "                        <td id=\"T_1128155a_1240_11ea_877a_67ffda657d62row0_col1\" class=\"data row0 col1\" >7076585</td>\n",
       "            </tr>\n",
       "    </tbody></table>"
      ],
      "text/plain": [
       "<pandas.io.formats.style.Styler at 0x7f1a5d825a58>"
      ]
     },
     "execution_count": 10,
     "metadata": {},
     "output_type": "execute_result"
    }
   ],
   "source": [
    "## aggregate by email\n",
    "transactions =  venmo.aggregate( [{ '$group' : { '_id' : {'email': '$payment.actor.email'} , 'count' : { '$sum' : 1}}}])\n",
    "df = pd.DataFrame((item['_id']['email'], item['count']) for item in transactions)\n",
    "df.columns=['Email', 'Count']\n",
    "df.sort_values(by=['Count'], ascending=False).style.hide_index()"
   ]
  },
  {
   "cell_type": "code",
   "execution_count": 11,
   "metadata": {},
   "outputs": [
    {
     "data": {
      "text/html": [
       "<style  type=\"text/css\" >\n",
       "</style><table id=\"T_1931b47c_1240_11ea_877a_67ffda657d62\" ><thead>    <tr>        <th class=\"col_heading level0 col0\" >Amount</th>        <th class=\"col_heading level0 col1\" >Count</th>    </tr></thead><tbody>\n",
       "                <tr>\n",
       "                                <td id=\"T_1931b47c_1240_11ea_877a_67ffda657d62row0_col0\" class=\"data row0 col0\" >None</td>\n",
       "                        <td id=\"T_1931b47c_1240_11ea_877a_67ffda657d62row0_col1\" class=\"data row0 col1\" >7076585</td>\n",
       "            </tr>\n",
       "    </tbody></table>"
      ],
      "text/plain": [
       "<pandas.io.formats.style.Styler at 0x7f1a5d825cc0>"
      ]
     },
     "execution_count": 11,
     "metadata": {},
     "output_type": "execute_result"
    }
   ],
   "source": [
    "## aggregate by payment amount\n",
    "transactions =  venmo.aggregate( [{ '$group' : { '_id' : {'amount': '$payment.amount'} , 'count' : { '$sum' : 1}}}])\n",
    "df = pd.DataFrame((item['_id']['amount'], item['count']) for item in transactions)\n",
    "df.columns=['Amount', 'Count']\n",
    "df.sort_values(by=['Amount'], ascending=False).style.hide_index()"
   ]
  },
  {
   "cell_type": "code",
   "execution_count": null,
   "metadata": {},
   "outputs": [],
   "source": [
    "## The count of unique username that paid\n",
    "transactions =  venmo.aggregate([{'$project' : {'username' : '$payment.actor.username'}}])\n",
    "df = pd.DataFrame(item['username'] for item in transactions if 'username' in item.keys())\n",
    "df.columns = ['username']\n",
    "len(df.username.unique())"
   ]
  }
 ],
 "metadata": {
  "kernelspec": {
   "display_name": "Python 3",
   "language": "python",
   "name": "python3"
  },
  "language_info": {
   "codemirror_mode": {
    "name": "ipython",
    "version": 3
   },
   "file_extension": ".py",
   "mimetype": "text/x-python",
   "name": "python",
   "nbconvert_exporter": "python",
   "pygments_lexer": "ipython3",
   "version": "3.6.8"
  }
 },
 "nbformat": 4,
 "nbformat_minor": 4
}
